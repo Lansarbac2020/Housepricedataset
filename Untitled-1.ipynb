{
 "cells": [
  {
   "cell_type": "markdown",
   "metadata": {},
   "source": [
    "House_Price in Ankara"
   ]
  },
  {
   "cell_type": "code",
   "execution_count": 47,
   "metadata": {},
   "outputs": [],
   "source": [
    "import pandas as pd\n",
    "import numpy as np\n",
    "import matplotlib.pyplot as plt "
   ]
  },
  {
   "cell_type": "code",
   "execution_count": 48,
   "metadata": {},
   "outputs": [
    {
     "data": {
      "text/html": [
       "<div>\n",
       "<style scoped>\n",
       "    .dataframe tbody tr th:only-of-type {\n",
       "        vertical-align: middle;\n",
       "    }\n",
       "\n",
       "    .dataframe tbody tr th {\n",
       "        vertical-align: top;\n",
       "    }\n",
       "\n",
       "    .dataframe thead th {\n",
       "        text-align: right;\n",
       "    }\n",
       "</style>\n",
       "<table border=\"1\" class=\"dataframe\">\n",
       "  <thead>\n",
       "    <tr style=\"text-align: right;\">\n",
       "      <th></th>\n",
       "      <th>unique_id</th>\n",
       "      <th>date</th>\n",
       "      <th>district</th>\n",
       "      <th>address</th>\n",
       "      <th>area_msquare</th>\n",
       "      <th>age</th>\n",
       "      <th>total_room</th>\n",
       "      <th>floor</th>\n",
       "      <th>price</th>\n",
       "      <th>distance_to_center_km</th>\n",
       "      <th>distance_to_hospital_km</th>\n",
       "      <th>within_the_site</th>\n",
       "      <th>elevator</th>\n",
       "    </tr>\n",
       "  </thead>\n",
       "  <tbody>\n",
       "    <tr>\n",
       "      <th>0</th>\n",
       "      <td>0.0</td>\n",
       "      <td>01/01/2024</td>\n",
       "      <td>Pursaklar</td>\n",
       "      <td>Saray Fatih Mah</td>\n",
       "      <td>85.0</td>\n",
       "      <td>0.0</td>\n",
       "      <td>3.0</td>\n",
       "      <td>0</td>\n",
       "      <td>12500.0</td>\n",
       "      <td>5.3</td>\n",
       "      <td>5.1</td>\n",
       "      <td>No</td>\n",
       "      <td>Yes</td>\n",
       "    </tr>\n",
       "    <tr>\n",
       "      <th>1</th>\n",
       "      <td>1.0</td>\n",
       "      <td>30/12/2023</td>\n",
       "      <td>Pursaklar</td>\n",
       "      <td>Mimar Sinan Cad</td>\n",
       "      <td>80.0</td>\n",
       "      <td>8.0</td>\n",
       "      <td>3.0</td>\n",
       "      <td>0</td>\n",
       "      <td>8000.0</td>\n",
       "      <td>2.2</td>\n",
       "      <td>1.5</td>\n",
       "      <td>No</td>\n",
       "      <td>No</td>\n",
       "    </tr>\n",
       "    <tr>\n",
       "      <th>2</th>\n",
       "      <td>2.0</td>\n",
       "      <td>29/12/2023</td>\n",
       "      <td>Pursaklar</td>\n",
       "      <td>Altinova Mah</td>\n",
       "      <td>105.0</td>\n",
       "      <td>8.0</td>\n",
       "      <td>3.0</td>\n",
       "      <td>1</td>\n",
       "      <td>12500.0</td>\n",
       "      <td>11.2</td>\n",
       "      <td>11.0</td>\n",
       "      <td>No</td>\n",
       "      <td>Yes</td>\n",
       "    </tr>\n",
       "    <tr>\n",
       "      <th>3</th>\n",
       "      <td>3.0</td>\n",
       "      <td>27/12/2023</td>\n",
       "      <td>Pursaklar</td>\n",
       "      <td>Ayyildiz Mah</td>\n",
       "      <td>90.0</td>\n",
       "      <td>18.0</td>\n",
       "      <td>3.0</td>\n",
       "      <td>2</td>\n",
       "      <td>10250.0</td>\n",
       "      <td>3.0</td>\n",
       "      <td>4.0</td>\n",
       "      <td>No</td>\n",
       "      <td>No</td>\n",
       "    </tr>\n",
       "    <tr>\n",
       "      <th>4</th>\n",
       "      <td>4.0</td>\n",
       "      <td>27/12/2023</td>\n",
       "      <td>Pursaklar</td>\n",
       "      <td>Ayyildiz Mah</td>\n",
       "      <td>85.0</td>\n",
       "      <td>23.0</td>\n",
       "      <td>3.0</td>\n",
       "      <td>4</td>\n",
       "      <td>9500.0</td>\n",
       "      <td>3.2</td>\n",
       "      <td>4.2</td>\n",
       "      <td>Yes</td>\n",
       "      <td>No</td>\n",
       "    </tr>\n",
       "    <tr>\n",
       "      <th>5</th>\n",
       "      <td>5.0</td>\n",
       "      <td>25/12/2023</td>\n",
       "      <td>Pursaklar</td>\n",
       "      <td>Tevfik Ileri Mah</td>\n",
       "      <td>90.0</td>\n",
       "      <td>17.0</td>\n",
       "      <td>3.0</td>\n",
       "      <td>6</td>\n",
       "      <td>12000.0</td>\n",
       "      <td>2.5</td>\n",
       "      <td>4.4</td>\n",
       "      <td>Yes</td>\n",
       "      <td>Yes</td>\n",
       "    </tr>\n",
       "    <tr>\n",
       "      <th>6</th>\n",
       "      <td>6.0</td>\n",
       "      <td>24/12/2023</td>\n",
       "      <td>Pursaklar</td>\n",
       "      <td>Ayyildiz Mah</td>\n",
       "      <td>60.0</td>\n",
       "      <td>22.0</td>\n",
       "      <td>3.0</td>\n",
       "      <td>3</td>\n",
       "      <td>7500.0</td>\n",
       "      <td>3.3</td>\n",
       "      <td>4.6</td>\n",
       "      <td>No</td>\n",
       "      <td>No</td>\n",
       "    </tr>\n",
       "    <tr>\n",
       "      <th>7</th>\n",
       "      <td>7.0</td>\n",
       "      <td>19/12/2023</td>\n",
       "      <td>Pursaklar</td>\n",
       "      <td>Fatih Mah</td>\n",
       "      <td>85.0</td>\n",
       "      <td>19.0</td>\n",
       "      <td>3.0</td>\n",
       "      <td>0</td>\n",
       "      <td>5250.0</td>\n",
       "      <td>1.4</td>\n",
       "      <td>2.3</td>\n",
       "      <td>No</td>\n",
       "      <td>No</td>\n",
       "    </tr>\n",
       "    <tr>\n",
       "      <th>8</th>\n",
       "      <td>8.0</td>\n",
       "      <td>19/12/2023</td>\n",
       "      <td>Pursaklar</td>\n",
       "      <td>Yunus Emre Mah</td>\n",
       "      <td>80.0</td>\n",
       "      <td>13.0</td>\n",
       "      <td>3.0</td>\n",
       "      <td>0</td>\n",
       "      <td>11000.0</td>\n",
       "      <td>1.7</td>\n",
       "      <td>4.1</td>\n",
       "      <td>No</td>\n",
       "      <td>No</td>\n",
       "    </tr>\n",
       "    <tr>\n",
       "      <th>9</th>\n",
       "      <td>9.0</td>\n",
       "      <td>18/12/2023</td>\n",
       "      <td>Pursaklar</td>\n",
       "      <td>Ayyildiz Mah</td>\n",
       "      <td>70.0</td>\n",
       "      <td>24.0</td>\n",
       "      <td>3.0</td>\n",
       "      <td>4</td>\n",
       "      <td>10000.0</td>\n",
       "      <td>3.1</td>\n",
       "      <td>4.0</td>\n",
       "      <td>No</td>\n",
       "      <td>No</td>\n",
       "    </tr>\n",
       "  </tbody>\n",
       "</table>\n",
       "</div>"
      ],
      "text/plain": [
       "   unique_id        date   district           address  area_msquare   age  \\\n",
       "0        0.0  01/01/2024  Pursaklar   Saray Fatih Mah          85.0   0.0   \n",
       "1        1.0  30/12/2023  Pursaklar   Mimar Sinan Cad          80.0   8.0   \n",
       "2        2.0  29/12/2023  Pursaklar      Altinova Mah         105.0   8.0   \n",
       "3        3.0  27/12/2023  Pursaklar      Ayyildiz Mah          90.0  18.0   \n",
       "4        4.0  27/12/2023  Pursaklar      Ayyildiz Mah          85.0  23.0   \n",
       "5        5.0  25/12/2023  Pursaklar  Tevfik Ileri Mah          90.0  17.0   \n",
       "6        6.0  24/12/2023  Pursaklar      Ayyildiz Mah          60.0  22.0   \n",
       "7        7.0  19/12/2023  Pursaklar         Fatih Mah          85.0  19.0   \n",
       "8        8.0  19/12/2023  Pursaklar    Yunus Emre Mah          80.0  13.0   \n",
       "9        9.0  18/12/2023  Pursaklar      Ayyildiz Mah          70.0  24.0   \n",
       "\n",
       "   total_room  floor    price  distance_to_center_km  distance_to_hospital_km  \\\n",
       "0         3.0      0  12500.0                    5.3                      5.1   \n",
       "1         3.0      0   8000.0                    2.2                      1.5   \n",
       "2         3.0      1  12500.0                   11.2                     11.0   \n",
       "3         3.0      2  10250.0                    3.0                      4.0   \n",
       "4         3.0      4   9500.0                    3.2                      4.2   \n",
       "5         3.0      6  12000.0                    2.5                      4.4   \n",
       "6         3.0      3   7500.0                    3.3                      4.6   \n",
       "7         3.0      0   5250.0                    1.4                      2.3   \n",
       "8         3.0      0  11000.0                    1.7                      4.1   \n",
       "9         3.0      4  10000.0                    3.1                      4.0   \n",
       "\n",
       "  within_the_site elevator  \n",
       "0              No      Yes  \n",
       "1              No       No  \n",
       "2              No      Yes  \n",
       "3              No       No  \n",
       "4             Yes       No  \n",
       "5             Yes      Yes  \n",
       "6              No       No  \n",
       "7              No       No  \n",
       "8              No       No  \n",
       "9              No       No  "
      ]
     },
     "execution_count": 48,
     "metadata": {},
     "output_type": "execute_result"
    }
   ],
   "source": [
    "# for getting  first 10 datas \n",
    "df = pd.read_csv('house_price1.csv')\n",
    "df.head(10)"
   ]
  },
  {
   "cell_type": "code",
   "execution_count": 49,
   "metadata": {},
   "outputs": [
    {
     "data": {
      "text/html": [
       "<div>\n",
       "<style scoped>\n",
       "    .dataframe tbody tr th:only-of-type {\n",
       "        vertical-align: middle;\n",
       "    }\n",
       "\n",
       "    .dataframe tbody tr th {\n",
       "        vertical-align: top;\n",
       "    }\n",
       "\n",
       "    .dataframe thead th {\n",
       "        text-align: right;\n",
       "    }\n",
       "</style>\n",
       "<table border=\"1\" class=\"dataframe\">\n",
       "  <thead>\n",
       "    <tr style=\"text-align: right;\">\n",
       "      <th></th>\n",
       "      <th>unique_id</th>\n",
       "      <th>area_msquare</th>\n",
       "      <th>age</th>\n",
       "      <th>total_room</th>\n",
       "      <th>floor</th>\n",
       "      <th>price</th>\n",
       "      <th>distance_to_center_km</th>\n",
       "      <th>distance_to_hospital_km</th>\n",
       "    </tr>\n",
       "  </thead>\n",
       "  <tbody>\n",
       "    <tr>\n",
       "      <th>count</th>\n",
       "      <td>107.000000</td>\n",
       "      <td>106.000000</td>\n",
       "      <td>107.000000</td>\n",
       "      <td>107.000000</td>\n",
       "      <td>108.000000</td>\n",
       "      <td>101.000000</td>\n",
       "      <td>108.000000</td>\n",
       "      <td>108.000000</td>\n",
       "    </tr>\n",
       "    <tr>\n",
       "      <th>mean</th>\n",
       "      <td>58.383178</td>\n",
       "      <td>114.632075</td>\n",
       "      <td>9.261682</td>\n",
       "      <td>3.990654</td>\n",
       "      <td>2.953704</td>\n",
       "      <td>11749.504950</td>\n",
       "      <td>4.975000</td>\n",
       "      <td>4.595370</td>\n",
       "    </tr>\n",
       "    <tr>\n",
       "      <th>std</th>\n",
       "      <td>49.450689</td>\n",
       "      <td>40.933238</td>\n",
       "      <td>7.895946</td>\n",
       "      <td>0.818366</td>\n",
       "      <td>2.496294</td>\n",
       "      <td>5015.837393</td>\n",
       "      <td>3.676628</td>\n",
       "      <td>3.414028</td>\n",
       "    </tr>\n",
       "    <tr>\n",
       "      <th>min</th>\n",
       "      <td>0.000000</td>\n",
       "      <td>0.000000</td>\n",
       "      <td>0.000000</td>\n",
       "      <td>3.000000</td>\n",
       "      <td>0.000000</td>\n",
       "      <td>0.000000</td>\n",
       "      <td>1.300000</td>\n",
       "      <td>0.900000</td>\n",
       "    </tr>\n",
       "    <tr>\n",
       "      <th>25%</th>\n",
       "      <td>26.500000</td>\n",
       "      <td>90.000000</td>\n",
       "      <td>3.000000</td>\n",
       "      <td>3.000000</td>\n",
       "      <td>1.000000</td>\n",
       "      <td>8250.000000</td>\n",
       "      <td>2.475000</td>\n",
       "      <td>2.000000</td>\n",
       "    </tr>\n",
       "    <tr>\n",
       "      <th>50%</th>\n",
       "      <td>54.000000</td>\n",
       "      <td>120.000000</td>\n",
       "      <td>7.000000</td>\n",
       "      <td>4.000000</td>\n",
       "      <td>2.000000</td>\n",
       "      <td>11000.000000</td>\n",
       "      <td>3.200000</td>\n",
       "      <td>4.100000</td>\n",
       "    </tr>\n",
       "    <tr>\n",
       "      <th>75%</th>\n",
       "      <td>81.500000</td>\n",
       "      <td>140.000000</td>\n",
       "      <td>13.000000</td>\n",
       "      <td>5.000000</td>\n",
       "      <td>4.000000</td>\n",
       "      <td>14500.000000</td>\n",
       "      <td>6.500000</td>\n",
       "      <td>5.825000</td>\n",
       "    </tr>\n",
       "    <tr>\n",
       "      <th>max</th>\n",
       "      <td>384.000000</td>\n",
       "      <td>185.000000</td>\n",
       "      <td>34.000000</td>\n",
       "      <td>5.000000</td>\n",
       "      <td>12.000000</td>\n",
       "      <td>27500.000000</td>\n",
       "      <td>18.700000</td>\n",
       "      <td>17.600000</td>\n",
       "    </tr>\n",
       "  </tbody>\n",
       "</table>\n",
       "</div>"
      ],
      "text/plain": [
       "        unique_id  area_msquare         age  total_room       floor  \\\n",
       "count  107.000000    106.000000  107.000000  107.000000  108.000000   \n",
       "mean    58.383178    114.632075    9.261682    3.990654    2.953704   \n",
       "std     49.450689     40.933238    7.895946    0.818366    2.496294   \n",
       "min      0.000000      0.000000    0.000000    3.000000    0.000000   \n",
       "25%     26.500000     90.000000    3.000000    3.000000    1.000000   \n",
       "50%     54.000000    120.000000    7.000000    4.000000    2.000000   \n",
       "75%     81.500000    140.000000   13.000000    5.000000    4.000000   \n",
       "max    384.000000    185.000000   34.000000    5.000000   12.000000   \n",
       "\n",
       "              price  distance_to_center_km  distance_to_hospital_km  \n",
       "count    101.000000             108.000000               108.000000  \n",
       "mean   11749.504950               4.975000                 4.595370  \n",
       "std     5015.837393               3.676628                 3.414028  \n",
       "min        0.000000               1.300000                 0.900000  \n",
       "25%     8250.000000               2.475000                 2.000000  \n",
       "50%    11000.000000               3.200000                 4.100000  \n",
       "75%    14500.000000               6.500000                 5.825000  \n",
       "max    27500.000000              18.700000                17.600000  "
      ]
     },
     "execution_count": 49,
     "metadata": {},
     "output_type": "execute_result"
    }
   ],
   "source": [
    " # for generate descriptive statistics of a dataFrame\n",
    "df.describe()"
   ]
  },
  {
   "cell_type": "code",
   "execution_count": 50,
   "metadata": {},
   "outputs": [
    {
     "data": {
      "text/plain": [
       "(108, 13)"
      ]
     },
     "execution_count": 50,
     "metadata": {},
     "output_type": "execute_result"
    }
   ],
   "source": [
    "# getting the total number of rows and columns in the dataset\n",
    "df.shape"
   ]
  },
  {
   "cell_type": "code",
   "execution_count": 51,
   "metadata": {},
   "outputs": [
    {
     "data": {
      "text/plain": [
       "Index(['unique_id', 'date', 'district', 'address', 'area_msquare', 'age',\n",
       "       'total_room', 'floor', 'price', 'distance_to_center_km',\n",
       "       'distance_to_hospital_km', 'within_the_site', 'elevator'],\n",
       "      dtype='object')"
      ]
     },
     "execution_count": 51,
     "metadata": {},
     "output_type": "execute_result"
    }
   ],
   "source": [
    "# name of the columns\n",
    "df.columns"
   ]
  },
  {
   "cell_type": "code",
   "execution_count": 52,
   "metadata": {},
   "outputs": [
    {
     "data": {
      "text/plain": [
       "unique_id                  1\n",
       "date                       1\n",
       "district                   1\n",
       "address                    1\n",
       "area_msquare               2\n",
       "age                        1\n",
       "total_room                 1\n",
       "floor                      0\n",
       "price                      7\n",
       "distance_to_center_km      0\n",
       "distance_to_hospital_km    0\n",
       "within_the_site            0\n",
       "elevator                   0\n",
       "dtype: int64"
      ]
     },
     "execution_count": 52,
     "metadata": {},
     "output_type": "execute_result"
    }
   ],
   "source": [
    "# count the number of missing values  in each column of a DataFrame \n",
    "df.isna().sum()"
   ]
  },
  {
   "cell_type": "code",
   "execution_count": 53,
   "metadata": {},
   "outputs": [
    {
     "data": {
      "text/html": [
       "<div>\n",
       "<style scoped>\n",
       "    .dataframe tbody tr th:only-of-type {\n",
       "        vertical-align: middle;\n",
       "    }\n",
       "\n",
       "    .dataframe tbody tr th {\n",
       "        vertical-align: top;\n",
       "    }\n",
       "\n",
       "    .dataframe thead th {\n",
       "        text-align: right;\n",
       "    }\n",
       "</style>\n",
       "<table border=\"1\" class=\"dataframe\">\n",
       "  <thead>\n",
       "    <tr style=\"text-align: right;\">\n",
       "      <th></th>\n",
       "      <th>unique_id</th>\n",
       "      <th>date</th>\n",
       "      <th>district</th>\n",
       "      <th>address</th>\n",
       "      <th>area_msquare</th>\n",
       "      <th>age</th>\n",
       "      <th>total_room</th>\n",
       "      <th>floor</th>\n",
       "      <th>price</th>\n",
       "      <th>distance_to_center_km</th>\n",
       "      <th>distance_to_hospital_km</th>\n",
       "      <th>within_the_site</th>\n",
       "      <th>elevator</th>\n",
       "    </tr>\n",
       "  </thead>\n",
       "  <tbody>\n",
       "    <tr>\n",
       "      <th>28</th>\n",
       "      <td>28.0</td>\n",
       "      <td>04/01/2024</td>\n",
       "      <td>Pursaklar</td>\n",
       "      <td>Saray Cumhuriyet</td>\n",
       "      <td>NaN</td>\n",
       "      <td>2.0</td>\n",
       "      <td>5.0</td>\n",
       "      <td>4</td>\n",
       "      <td>18500.0</td>\n",
       "      <td>7.2</td>\n",
       "      <td>7.6</td>\n",
       "      <td>Yes</td>\n",
       "      <td>Yes</td>\n",
       "    </tr>\n",
       "    <tr>\n",
       "      <th>29</th>\n",
       "      <td>29.0</td>\n",
       "      <td>04/01/2024</td>\n",
       "      <td>Pursaklar</td>\n",
       "      <td>Saray Fatih Mah</td>\n",
       "      <td>170.0</td>\n",
       "      <td>3.0</td>\n",
       "      <td>5.0</td>\n",
       "      <td>11</td>\n",
       "      <td>14000.0</td>\n",
       "      <td>5.3</td>\n",
       "      <td>5.1</td>\n",
       "      <td>Yes</td>\n",
       "      <td>Yes</td>\n",
       "    </tr>\n",
       "    <tr>\n",
       "      <th>30</th>\n",
       "      <td>30.0</td>\n",
       "      <td>03/01/2024</td>\n",
       "      <td>Pursaklar</td>\n",
       "      <td>Fatih Mah</td>\n",
       "      <td>150.0</td>\n",
       "      <td>0.0</td>\n",
       "      <td>5.0</td>\n",
       "      <td>1</td>\n",
       "      <td>19000.0</td>\n",
       "      <td>1.6</td>\n",
       "      <td>2.5</td>\n",
       "      <td>No</td>\n",
       "      <td>Yes</td>\n",
       "    </tr>\n",
       "    <tr>\n",
       "      <th>31</th>\n",
       "      <td>NaN</td>\n",
       "      <td>NaN</td>\n",
       "      <td>NaN</td>\n",
       "      <td>NaN</td>\n",
       "      <td>NaN</td>\n",
       "      <td>NaN</td>\n",
       "      <td>NaN</td>\n",
       "      <td>3</td>\n",
       "      <td>15500.0</td>\n",
       "      <td>7.1</td>\n",
       "      <td>7.5</td>\n",
       "      <td>Yes</td>\n",
       "      <td>Yes</td>\n",
       "    </tr>\n",
       "    <tr>\n",
       "      <th>32</th>\n",
       "      <td>32.0</td>\n",
       "      <td>01/01/2024</td>\n",
       "      <td>Pursaklar</td>\n",
       "      <td>Tevfik Ileri Mah</td>\n",
       "      <td>140.0</td>\n",
       "      <td>13.0</td>\n",
       "      <td>5.0</td>\n",
       "      <td>3</td>\n",
       "      <td>16000.0</td>\n",
       "      <td>2.9</td>\n",
       "      <td>4.8</td>\n",
       "      <td>No</td>\n",
       "      <td>No</td>\n",
       "    </tr>\n",
       "    <tr>\n",
       "      <th>33</th>\n",
       "      <td>33.0</td>\n",
       "      <td>01/01/2024</td>\n",
       "      <td>Pursaklar</td>\n",
       "      <td>Mimar Sinan</td>\n",
       "      <td>150.0</td>\n",
       "      <td>0.0</td>\n",
       "      <td>5.0</td>\n",
       "      <td>5</td>\n",
       "      <td>25000.0</td>\n",
       "      <td>2.4</td>\n",
       "      <td>1.7</td>\n",
       "      <td>Yes</td>\n",
       "      <td>Yes</td>\n",
       "    </tr>\n",
       "  </tbody>\n",
       "</table>\n",
       "</div>"
      ],
      "text/plain": [
       "    unique_id        date   district           address  area_msquare   age  \\\n",
       "28       28.0  04/01/2024  Pursaklar  Saray Cumhuriyet           NaN   2.0   \n",
       "29       29.0  04/01/2024  Pursaklar   Saray Fatih Mah         170.0   3.0   \n",
       "30       30.0  03/01/2024  Pursaklar         Fatih Mah         150.0   0.0   \n",
       "31        NaN         NaN        NaN               NaN           NaN   NaN   \n",
       "32       32.0  01/01/2024  Pursaklar  Tevfik Ileri Mah         140.0  13.0   \n",
       "33       33.0  01/01/2024  Pursaklar       Mimar Sinan         150.0   0.0   \n",
       "\n",
       "    total_room  floor    price  distance_to_center_km  \\\n",
       "28         5.0      4  18500.0                    7.2   \n",
       "29         5.0     11  14000.0                    5.3   \n",
       "30         5.0      1  19000.0                    1.6   \n",
       "31         NaN      3  15500.0                    7.1   \n",
       "32         5.0      3  16000.0                    2.9   \n",
       "33         5.0      5  25000.0                    2.4   \n",
       "\n",
       "    distance_to_hospital_km within_the_site elevator  \n",
       "28                      7.6             Yes      Yes  \n",
       "29                      5.1             Yes      Yes  \n",
       "30                      2.5              No      Yes  \n",
       "31                      7.5             Yes      Yes  \n",
       "32                      4.8              No       No  \n",
       "33                      1.7             Yes      Yes  "
      ]
     },
     "execution_count": 53,
     "metadata": {},
     "output_type": "execute_result"
    }
   ],
   "source": [
    "# filter out rows where the value in the 'unique_id' column is not equal to 31 and then selects rows 28 to 33 from the resulting DataFrame.\n",
    "df = df[df['unique_id'] != 31]\n",
    "df[28:34]"
   ]
  },
  {
   "cell_type": "code",
   "execution_count": 54,
   "metadata": {},
   "outputs": [
    {
     "data": {
      "text/plain": [
       "unique_id                  1\n",
       "date                       1\n",
       "district                   1\n",
       "address                    1\n",
       "area_msquare               2\n",
       "age                        1\n",
       "total_room                 1\n",
       "floor                      0\n",
       "price                      7\n",
       "distance_to_center_km      0\n",
       "distance_to_hospital_km    0\n",
       "within_the_site            0\n",
       "elevator                   0\n",
       "dtype: int64"
      ]
     },
     "execution_count": 54,
     "metadata": {},
     "output_type": "execute_result"
    }
   ],
   "source": [
    "df.isna().sum()"
   ]
  },
  {
   "cell_type": "code",
   "execution_count": 55,
   "metadata": {},
   "outputs": [
    {
     "data": {
      "text/plain": [
       "120.0"
      ]
     },
     "execution_count": 55,
     "metadata": {},
     "output_type": "execute_result"
    }
   ],
   "source": [
    "# calculates the median value of the 'area_msquare' column in the DataFrame\n",
    "area_median = df['area_msquare'].median()\n",
    "area_median"
   ]
  },
  {
   "cell_type": "code",
   "execution_count": 56,
   "metadata": {},
   "outputs": [
    {
     "data": {
      "text/html": [
       "<div>\n",
       "<style scoped>\n",
       "    .dataframe tbody tr th:only-of-type {\n",
       "        vertical-align: middle;\n",
       "    }\n",
       "\n",
       "    .dataframe tbody tr th {\n",
       "        vertical-align: top;\n",
       "    }\n",
       "\n",
       "    .dataframe thead th {\n",
       "        text-align: right;\n",
       "    }\n",
       "</style>\n",
       "<table border=\"1\" class=\"dataframe\">\n",
       "  <thead>\n",
       "    <tr style=\"text-align: right;\">\n",
       "      <th></th>\n",
       "      <th>unique_id</th>\n",
       "      <th>date</th>\n",
       "      <th>district</th>\n",
       "      <th>address</th>\n",
       "      <th>area_msquare</th>\n",
       "      <th>age</th>\n",
       "      <th>total_room</th>\n",
       "      <th>floor</th>\n",
       "      <th>price</th>\n",
       "      <th>distance_to_center_km</th>\n",
       "      <th>distance_to_hospital_km</th>\n",
       "      <th>within_the_site</th>\n",
       "      <th>elevator</th>\n",
       "    </tr>\n",
       "  </thead>\n",
       "  <tbody>\n",
       "    <tr>\n",
       "      <th>25</th>\n",
       "      <td>25.0</td>\n",
       "      <td>04/01/2024</td>\n",
       "      <td>Pursaklar</td>\n",
       "      <td>Saray Fatih Mah</td>\n",
       "      <td>180.0</td>\n",
       "      <td>4.0</td>\n",
       "      <td>5.0</td>\n",
       "      <td>7</td>\n",
       "      <td>20000.0</td>\n",
       "      <td>5.1</td>\n",
       "      <td>4.9</td>\n",
       "      <td>Yes</td>\n",
       "      <td>Yes</td>\n",
       "    </tr>\n",
       "    <tr>\n",
       "      <th>26</th>\n",
       "      <td>26.0</td>\n",
       "      <td>04/01/2024</td>\n",
       "      <td>Pursaklar</td>\n",
       "      <td>Saray Cumhuriyet</td>\n",
       "      <td>140.0</td>\n",
       "      <td>7.0</td>\n",
       "      <td>5.0</td>\n",
       "      <td>3</td>\n",
       "      <td>18000.0</td>\n",
       "      <td>7.0</td>\n",
       "      <td>7.4</td>\n",
       "      <td>No</td>\n",
       "      <td>Yes</td>\n",
       "    </tr>\n",
       "    <tr>\n",
       "      <th>27</th>\n",
       "      <td>27.0</td>\n",
       "      <td>04/01/2024</td>\n",
       "      <td>Pursaklar</td>\n",
       "      <td>Saray Fatih Mah</td>\n",
       "      <td>160.0</td>\n",
       "      <td>3.0</td>\n",
       "      <td>5.0</td>\n",
       "      <td>9</td>\n",
       "      <td>NaN</td>\n",
       "      <td>5.2</td>\n",
       "      <td>5.0</td>\n",
       "      <td>No</td>\n",
       "      <td>Yes</td>\n",
       "    </tr>\n",
       "    <tr>\n",
       "      <th>28</th>\n",
       "      <td>28.0</td>\n",
       "      <td>04/01/2024</td>\n",
       "      <td>Pursaklar</td>\n",
       "      <td>Saray Cumhuriyet</td>\n",
       "      <td>120.0</td>\n",
       "      <td>2.0</td>\n",
       "      <td>5.0</td>\n",
       "      <td>4</td>\n",
       "      <td>18500.0</td>\n",
       "      <td>7.2</td>\n",
       "      <td>7.6</td>\n",
       "      <td>Yes</td>\n",
       "      <td>Yes</td>\n",
       "    </tr>\n",
       "  </tbody>\n",
       "</table>\n",
       "</div>"
      ],
      "text/plain": [
       "    unique_id        date   district           address  area_msquare  age  \\\n",
       "25       25.0  04/01/2024  Pursaklar   Saray Fatih Mah         180.0  4.0   \n",
       "26       26.0  04/01/2024  Pursaklar  Saray Cumhuriyet         140.0  7.0   \n",
       "27       27.0  04/01/2024  Pursaklar   Saray Fatih Mah         160.0  3.0   \n",
       "28       28.0  04/01/2024  Pursaklar  Saray Cumhuriyet         120.0  2.0   \n",
       "\n",
       "    total_room  floor    price  distance_to_center_km  \\\n",
       "25         5.0      7  20000.0                    5.1   \n",
       "26         5.0      3  18000.0                    7.0   \n",
       "27         5.0      9      NaN                    5.2   \n",
       "28         5.0      4  18500.0                    7.2   \n",
       "\n",
       "    distance_to_hospital_km within_the_site elevator  \n",
       "25                      4.9             Yes      Yes  \n",
       "26                      7.4              No      Yes  \n",
       "27                      5.0              No      Yes  \n",
       "28                      7.6             Yes      Yes  "
      ]
     },
     "execution_count": 56,
     "metadata": {},
     "output_type": "execute_result"
    }
   ],
   "source": [
    "# fills in missing values in the 'area_msquare' column of the DataFrame  with the previously calculated median value stored in the variable area_median\n",
    "df['area_msquare'].fillna(area_median, inplace=True)\n",
    "df[25:29]"
   ]
  },
  {
   "cell_type": "code",
   "execution_count": 57,
   "metadata": {},
   "outputs": [
    {
     "data": {
      "text/plain": [
       "age\n",
       "0.0     12\n",
       "1.0      5\n",
       "2.0      5\n",
       "3.0      8\n",
       "4.0     10\n",
       "5.0      3\n",
       "6.0      5\n",
       "7.0      6\n",
       "8.0      8\n",
       "9.0      3\n",
       "11.0     2\n",
       "12.0     3\n",
       "13.0    13\n",
       "14.0     2\n",
       "16.0     1\n",
       "17.0     3\n",
       "18.0     4\n",
       "19.0     2\n",
       "20.0     1\n",
       "22.0     1\n",
       "23.0     5\n",
       "24.0     2\n",
       "31.0     1\n",
       "32.0     1\n",
       "34.0     1\n",
       "Name: count, dtype: int64"
      ]
     },
     "execution_count": 57,
     "metadata": {},
     "output_type": "execute_result"
    }
   ],
   "source": [
    "# count the occurrences of each unique value in the 'age' column of the DataFrame\n",
    "df.age.value_counts().sort_index()"
   ]
  },
  {
   "cell_type": "code",
   "execution_count": 58,
   "metadata": {},
   "outputs": [
    {
     "data": {
      "text/plain": [
       "1"
      ]
     },
     "execution_count": 58,
     "metadata": {},
     "output_type": "execute_result"
    }
   ],
   "source": [
    "df['age'].isna().sum()\n"
   ]
  },
  {
   "cell_type": "code",
   "execution_count": 59,
   "metadata": {},
   "outputs": [
    {
     "name": "stdout",
     "output_type": "stream",
     "text": [
      "the mean value of the price is : 11749.50495049505\n"
     ]
    }
   ],
   "source": [
    "#  the mean (average) value of the 'price' column in the DataFrame\n",
    "mean_price = df['price'].mean()\n",
    "print(\"the mean value of the price is :\",mean_price)"
   ]
  },
  {
   "cell_type": "code",
   "execution_count": 60,
   "metadata": {},
   "outputs": [
    {
     "name": "stdout",
     "output_type": "stream",
     "text": [
      "the floor value of mean price is : 11749.0\n"
     ]
    }
   ],
   "source": [
    "# calculate the floor value of the mean price calculated previously\n",
    "price_mean_floor = np.floor(mean_price)\n",
    "print(\"the floor value of mean price is :\",price_mean_floor)"
   ]
  },
  {
   "cell_type": "code",
   "execution_count": 61,
   "metadata": {},
   "outputs": [
    {
     "data": {
      "text/plain": [
       "unique_id                  1\n",
       "date                       1\n",
       "district                   1\n",
       "address                    1\n",
       "area_msquare               0\n",
       "age                        1\n",
       "total_room                 1\n",
       "floor                      0\n",
       "price                      0\n",
       "distance_to_center_km      0\n",
       "distance_to_hospital_km    0\n",
       "within_the_site            0\n",
       "elevator                   0\n",
       "dtype: int64"
      ]
     },
     "execution_count": 61,
     "metadata": {},
     "output_type": "execute_result"
    }
   ],
   "source": [
    "# Fills in missing values in the 'price' column of the DataFrame with the price_mean_floor, and then checks for any remaining missing values in the DataFrame.\n",
    "df['price'].fillna(price_mean_floor, inplace=True)\n",
    "df.isna().sum()"
   ]
  },
  {
   "cell_type": "code",
   "execution_count": 68,
   "metadata": {},
   "outputs": [],
   "source": [
    "# Drop rows with missing values\n",
    "df.dropna(inplace=True)\n",
    "\n",
    "# Fill missing values in 'district' and 'address' with the mode\n",
    "df['district'].fillna(df['district'].mode()[0], inplace=True)\n",
    "df['address'].fillna(df['address'].mode()[0], inplace=True)\n",
    "\n",
    "# Fill missing values in 'total_room' with the mean\n",
    "total_room_mean = df['total_room'].mean()\n",
    "df['total_room'].fillna(total_room_mean, inplace=True)\n",
    "\n",
    "\n"
   ]
  },
  {
   "cell_type": "code",
   "execution_count": 63,
   "metadata": {},
   "outputs": [
    {
     "name": "stdout",
     "output_type": "stream",
     "text": [
      "Median of the price is : 11749.0\n",
      "Median of the age is : 9.261682242990654\n"
     ]
    }
   ],
   "source": [
    "# calculates the median value of the 'price' column in the DataFrame \n",
    "median_price = df['price'].median()\n",
    "mean_age = df['age'].mean()\n",
    "\n",
    "print (\"Median of the price is :\", median_price)\n",
    "print (\"Median of the age is :\", mean_age )"
   ]
  },
  {
   "cell_type": "code",
   "execution_count": 64,
   "metadata": {},
   "outputs": [
    {
     "data": {
      "text/plain": [
       "9.0"
      ]
     },
     "execution_count": 64,
     "metadata": {},
     "output_type": "execute_result"
    }
   ],
   "source": [
    "# the truncated mean age \n",
    "mean_age_trunc = np.trunc(mean_age)\n",
    "mean_age_trunc"
   ]
  },
  {
   "cell_type": "code",
   "execution_count": 71,
   "metadata": {},
   "outputs": [
    {
     "data": {
      "text/plain": [
       "unique_id                  0\n",
       "date                       0\n",
       "district                   0\n",
       "address                    0\n",
       "area_msquare               0\n",
       "age                        0\n",
       "total_room                 0\n",
       "floor                      0\n",
       "price                      0\n",
       "distance_to_center_km      0\n",
       "distance_to_hospital_km    0\n",
       "within_the_site            0\n",
       "elevator                   0\n",
       "dtype: int64"
      ]
     },
     "execution_count": 71,
     "metadata": {},
     "output_type": "execute_result"
    }
   ],
   "source": [
    "# fill missing values in the 'age' column of your DataFrame with the truncated mean_age\n",
    "df['age'].fillna(mean_age_trunc, inplace=True)\n",
    "df.age.isna().sum()\n",
    "\n",
    "# checking the missing values again\n",
    "df.isna().sum()\n",
    "\n"
   ]
  },
  {
   "cell_type": "code",
   "execution_count": 79,
   "metadata": {},
   "outputs": [
    {
     "name": "stdout",
     "output_type": "stream",
     "text": [
      "The standart deviation of the price is  : 4858.045802539666\n",
      "The variance of the price is : 23600609.019573264\n",
      "The variance of the price is :\n"
     ]
    },
    {
     "data": {
      "text/plain": [
       "0     8000.0\n",
       "1    10000.0\n",
       "2    11749.0\n",
       "Name: price, dtype: float64"
      ]
     },
     "execution_count": 79,
     "metadata": {},
     "output_type": "execute_result"
    }
   ],
   "source": [
    "# the standart deviation of the \"Price\" columns \n",
    "price_std = df['price'].std()\n",
    "print(\"The standart deviation of the price is  :\", price_std)\n",
    "\n",
    "#the variance of the 'price' \n",
    "price_var = df['price'].var()\n",
    "print(\"The variance of the price is :\" ,price_var)\n",
    "# the mod \n",
    "price_mod = df['price'].mode()\n",
    "print(\"The variance of the price is :\")\n",
    "price_mod"
   ]
  },
  {
   "cell_type": "code",
   "execution_count": 80,
   "metadata": {},
   "outputs": [
    {
     "name": "stdout",
     "output_type": "stream",
     "text": [
      "first quartile (Q1) of 'price': 8500.0\n",
      "second quartile (Q2) of 'price': 11749.0\n",
      "third quartile (Q3) of 'price': 14000.0\n"
     ]
    }
   ],
   "source": [
    "# calculates the quartiles of the 'price' column in the DataFrame df and prints out their values.\n",
    "q1 = df['price'].quantile(0.25)\n",
    "q2 = df['price'].quantile(0.5)\n",
    "q3 = df['price'].quantile(0.75)\n",
    "print(f\"first quartile (Q1) of 'price': {q1}\")\n",
    "print(f\"second quartile (Q2) of 'price': {q2}\")\n",
    "print(f\"third quartile (Q3) of 'price': {q3}\") \n"
   ]
  },
  {
   "cell_type": "code",
   "execution_count": 81,
   "metadata": {},
   "outputs": [
    {
     "name": "stdout",
     "output_type": "stream",
     "text": [
      "Covariance matrix of price and age:\n"
     ]
    },
    {
     "data": {
      "text/html": [
       "<style type=\"text/css\">\n",
       "</style>\n",
       "<table id=\"T_41605\">\n",
       "  <thead>\n",
       "    <tr>\n",
       "      <th class=\"blank level0\" >&nbsp;</th>\n",
       "      <th id=\"T_41605_level0_col0\" class=\"col_heading level0 col0\" >price</th>\n",
       "      <th id=\"T_41605_level0_col1\" class=\"col_heading level0 col1\" >age</th>\n",
       "    </tr>\n",
       "  </thead>\n",
       "  <tbody>\n",
       "    <tr>\n",
       "      <th id=\"T_41605_level0_row0\" class=\"row_heading level0 row0\" >price</th>\n",
       "      <td id=\"T_41605_row0_col0\" class=\"data row0 col0\" >23600609.02</td>\n",
       "      <td id=\"T_41605_row0_col1\" class=\"data row0 col1\" >-10884.16</td>\n",
       "    </tr>\n",
       "    <tr>\n",
       "      <th id=\"T_41605_level0_row1\" class=\"row_heading level0 row1\" >age</th>\n",
       "      <td id=\"T_41605_row1_col0\" class=\"data row1 col0\" >-10884.16</td>\n",
       "      <td id=\"T_41605_row1_col1\" class=\"data row1 col1\" >62.35</td>\n",
       "    </tr>\n",
       "  </tbody>\n",
       "</table>\n"
      ],
      "text/plain": [
       "<pandas.io.formats.style.Styler at 0x709b0da5cf90>"
      ]
     },
     "metadata": {},
     "output_type": "display_data"
    }
   ],
   "source": [
    "# covariance matrix between \"price\" and age columns\n",
    "cov_matrix = df[['price', 'age']].cov()\n",
    "print(\"Covariance matrix of price and age:\")\n",
    "display(cov_matrix.style.format(\"{:.2f}\"))"
   ]
  },
  {
   "cell_type": "code",
   "execution_count": 82,
   "metadata": {},
   "outputs": [
    {
     "name": "stdout",
     "output_type": "stream",
     "text": [
      "0      0.154485\n",
      "1     -0.771813\n",
      "2      0.154485\n",
      "3     -0.308664\n",
      "4     -0.463047\n",
      "         ...   \n",
      "103    0.463251\n",
      "104    1.698316\n",
      "105    0.874939\n",
      "106    0.411790\n",
      "107   -0.360125\n",
      "Name: price, Length: 107, dtype: float64\n"
     ]
    }
   ],
   "source": [
    "# calculate the Z-scores for the 'price' column in the DataFrame\n",
    "z_scores = (df.price - mean_price) / price_std\n",
    "print(z_scores)"
   ]
  },
  {
   "cell_type": "code",
   "execution_count": 83,
   "metadata": {},
   "outputs": [
    {
     "data": {
      "text/plain": [
       "0    0.154485\n",
       "1   -0.771813\n",
       "2    0.154485\n",
       "3   -0.308664\n",
       "4   -0.463047\n",
       "5    0.051563\n",
       "6   -0.874735\n",
       "7   -1.337885\n",
       "8   -0.154281\n",
       "9   -0.360125\n",
       "Name: price, dtype: float64"
      ]
     },
     "execution_count": 83,
     "metadata": {},
     "output_type": "execute_result"
    }
   ],
   "source": [
    "# print first 10 z-scores\n",
    "z_scores.head(10)"
   ]
  },
  {
   "cell_type": "code",
   "execution_count": 84,
   "metadata": {},
   "outputs": [
    {
     "data": {
      "text/plain": [
       "103    0.463251\n",
       "104    1.698316\n",
       "105    0.874939\n",
       "106    0.411790\n",
       "107   -0.360125\n",
       "Name: price, dtype: float64"
      ]
     },
     "execution_count": 84,
     "metadata": {},
     "output_type": "execute_result"
    }
   ],
   "source": [
    "# the last few rows of Dataframes\n",
    "z_scores.tail()"
   ]
  },
  {
   "cell_type": "code",
   "execution_count": 85,
   "metadata": {},
   "outputs": [
    {
     "name": "stdout",
     "output_type": "stream",
     "text": [
      "skewness of 'price': 0.4802672155706691\n"
     ]
    }
   ],
   "source": [
    "# The skewness of the 'price' column in the DataFrame \n",
    "from scipy.stats import skew\n",
    "\n",
    "# skewness of price\n",
    "skewness = skew(df['price'])\n",
    "print(f\"skewness of 'price': {skewness}\")"
   ]
  },
  {
   "cell_type": "code",
   "execution_count": 86,
   "metadata": {},
   "outputs": [
    {
     "data": {
      "image/png": "[encoded data removed]",
      "text/plain": [
       "<Figure size 640x480 with 1 Axes>"
      ]
     },
     "metadata": {},
     "output_type": "display_data"
    }
   ],
   "source": [
    "# using matplotlib to create a bar chart displaying the relationship between age and price \n",
    "plt.bar(df['age'], df['price'])\n",
    "plt.xlabel('age')\n",
    "plt.ylabel('price')\n",
    "plt.title('Bar Chart Price and age')\n",
    "plt.show()"
   ]
  },
  {
   "cell_type": "code",
   "execution_count": 87,
   "metadata": {},
   "outputs": [
    {
     "data": {
      "text/plain": [
       "district\n",
       "Kecioren     36\n",
       "Pursaklar    35\n",
       "Cubuk        35\n",
       "Çubuk         1\n",
       "Name: count, dtype: int64"
      ]
     },
     "execution_count": 87,
     "metadata": {},
     "output_type": "execute_result"
    }
   ],
   "source": [
    "# getting the count of occurrences of each unique value in the 'district' column of  df. in order to see how many properties are in each district.\n",
    "df.district.value_counts()"
   ]
  },
  {
   "cell_type": "code",
   "execution_count": 91,
   "metadata": {},
   "outputs": [
    {
     "data": {
      "image/png": "[encoded data removed]",
      "text/plain": [
       "<Figure size 640x480 with 1 Axes>"
      ]
     },
     "metadata": {},
     "output_type": "display_data"
    }
   ],
   "source": [
    "sizes = [30, 45, 25, 32] # defining the size of the pie slices\n",
    "districts=df['district'].unique() # for retrieves the unique district names from the 'district' column of the df\n",
    "labels = [f\"{district} (Price: {price} TL)\" for district, price in zip(districts, df.price)] # Creates labels for the pie chart. Each label contains the district name and the average price of properties in that district. \n",
    "plt.pie(sizes, labels=labels, autopct='%1.1f%%')\n",
    "plt.title('Distribution by District and Price')\n",
    "plt.show()"
   ]
  },
  {
   "cell_type": "code",
   "execution_count": 93,
   "metadata": {},
   "outputs": [
    {
     "data": {
      "image/png": "[encoded data removed]",
      "text/plain": [
       "<Figure size 640x480 with 1 Axes>"
      ]
     },
     "metadata": {},
     "output_type": "display_data"
    }
   ],
   "source": [
    "# creating a histogram illustrating the distribution of ages in the dataset, grouping ages into five intervals and showing the frequency of values in each interval.\n",
    "plt.hist(df.age, bins=5, color='cyan', edgecolor='black')\n",
    "\n",
    "plt.xlabel('Value')\n",
    "plt.ylabel('Frequency')\n",
    "plt.title('Histogram')\n",
    "\n",
    "\n",
    "plt.show()\n"
   ]
  },
  {
   "cell_type": "code",
   "execution_count": 94,
   "metadata": {},
   "outputs": [
    {
     "data": {
      "image/png": "[encoded data removed]",
      "text/plain": [
       "<Figure size 640x480 with 1 Axes>"
      ]
     },
     "metadata": {},
     "output_type": "display_data"
    }
   ],
   "source": [
    "#Creates a scatter plot to visualize the relationship between age and price ,each point representes a property's age and price.\n",
    "plt.scatter(df.age, df.price)\n",
    "plt.xlabel('age')\n",
    "plt.ylabel('price')\n",
    "plt.title('Scatter Plot for age and price')\n",
    "plt.show()"
   ]
  },
  {
   "cell_type": "code",
   "execution_count": 101,
   "metadata": {},
   "outputs": [
    {
     "data": {
      "text/html": [
       "<div>\n",
       "<style scoped>\n",
       "    .dataframe tbody tr th:only-of-type {\n",
       "        vertical-align: middle;\n",
       "    }\n",
       "\n",
       "    .dataframe tbody tr th {\n",
       "        vertical-align: top;\n",
       "    }\n",
       "\n",
       "    .dataframe thead th {\n",
       "        text-align: right;\n",
       "    }\n",
       "</style>\n",
       "<table border=\"1\" class=\"dataframe\">\n",
       "  <thead>\n",
       "    <tr style=\"text-align: right;\">\n",
       "      <th></th>\n",
       "      <th>unique_id</th>\n",
       "      <th>date</th>\n",
       "      <th>district</th>\n",
       "      <th>address</th>\n",
       "      <th>area_msquare</th>\n",
       "      <th>age</th>\n",
       "      <th>total_room</th>\n",
       "      <th>floor</th>\n",
       "      <th>price</th>\n",
       "      <th>distance_to_center_km</th>\n",
       "      <th>distance_to_hospital_km</th>\n",
       "      <th>within_the_site</th>\n",
       "      <th>elevator</th>\n",
       "    </tr>\n",
       "  </thead>\n",
       "  <tbody>\n",
       "    <tr>\n",
       "      <th>0</th>\n",
       "      <td>0.0</td>\n",
       "      <td>01/01/2024</td>\n",
       "      <td>Pursaklar</td>\n",
       "      <td>Saray Fatih Mah</td>\n",
       "      <td>85.0</td>\n",
       "      <td>0.0</td>\n",
       "      <td>3.0</td>\n",
       "      <td>0</td>\n",
       "      <td>12500.0</td>\n",
       "      <td>5.3</td>\n",
       "      <td>5.1</td>\n",
       "      <td>No</td>\n",
       "      <td>Yes</td>\n",
       "    </tr>\n",
       "    <tr>\n",
       "      <th>1</th>\n",
       "      <td>1.0</td>\n",
       "      <td>30/12/2023</td>\n",
       "      <td>Pursaklar</td>\n",
       "      <td>Mimar Sinan Cad</td>\n",
       "      <td>80.0</td>\n",
       "      <td>8.0</td>\n",
       "      <td>3.0</td>\n",
       "      <td>0</td>\n",
       "      <td>8000.0</td>\n",
       "      <td>2.2</td>\n",
       "      <td>1.5</td>\n",
       "      <td>No</td>\n",
       "      <td>No</td>\n",
       "    </tr>\n",
       "    <tr>\n",
       "      <th>2</th>\n",
       "      <td>2.0</td>\n",
       "      <td>29/12/2023</td>\n",
       "      <td>Pursaklar</td>\n",
       "      <td>Altinova Mah</td>\n",
       "      <td>105.0</td>\n",
       "      <td>8.0</td>\n",
       "      <td>3.0</td>\n",
       "      <td>1</td>\n",
       "      <td>12500.0</td>\n",
       "      <td>11.2</td>\n",
       "      <td>11.0</td>\n",
       "      <td>No</td>\n",
       "      <td>Yes</td>\n",
       "    </tr>\n",
       "    <tr>\n",
       "      <th>13</th>\n",
       "      <td>13.0</td>\n",
       "      <td>02/01/2024</td>\n",
       "      <td>Pursaklar</td>\n",
       "      <td>Mimar Sinan Cad</td>\n",
       "      <td>120.0</td>\n",
       "      <td>1.0</td>\n",
       "      <td>4.0</td>\n",
       "      <td>2</td>\n",
       "      <td>26900.0</td>\n",
       "      <td>2.4</td>\n",
       "      <td>1.8</td>\n",
       "      <td>No</td>\n",
       "      <td>Yes</td>\n",
       "    </tr>\n",
       "    <tr>\n",
       "      <th>14</th>\n",
       "      <td>14.0</td>\n",
       "      <td>02/01/2024</td>\n",
       "      <td>Pursaklar</td>\n",
       "      <td>Fatih Mah</td>\n",
       "      <td>110.0</td>\n",
       "      <td>1.0</td>\n",
       "      <td>4.0</td>\n",
       "      <td>1</td>\n",
       "      <td>8500.0</td>\n",
       "      <td>1.4</td>\n",
       "      <td>2.3</td>\n",
       "      <td>No</td>\n",
       "      <td>No</td>\n",
       "    </tr>\n",
       "  </tbody>\n",
       "</table>\n",
       "</div>"
      ],
      "text/plain": [
       "    unique_id        date   district          address  area_msquare  age  \\\n",
       "0         0.0  01/01/2024  Pursaklar  Saray Fatih Mah          85.0  0.0   \n",
       "1         1.0  30/12/2023  Pursaklar  Mimar Sinan Cad          80.0  8.0   \n",
       "2         2.0  29/12/2023  Pursaklar     Altinova Mah         105.0  8.0   \n",
       "13       13.0  02/01/2024  Pursaklar  Mimar Sinan Cad         120.0  1.0   \n",
       "14       14.0  02/01/2024  Pursaklar        Fatih Mah         110.0  1.0   \n",
       "\n",
       "    total_room  floor    price  distance_to_center_km  \\\n",
       "0          3.0      0  12500.0                    5.3   \n",
       "1          3.0      0   8000.0                    2.2   \n",
       "2          3.0      1  12500.0                   11.2   \n",
       "13         4.0      2  26900.0                    2.4   \n",
       "14         4.0      1   8500.0                    1.4   \n",
       "\n",
       "    distance_to_hospital_km within_the_site elevator  \n",
       "0                       5.1              No      Yes  \n",
       "1                       1.5              No       No  \n",
       "2                      11.0              No      Yes  \n",
       "13                      1.8              No      Yes  \n",
       "14                      2.3              No       No  "
      ]
     },
     "execution_count": 101,
     "metadata": {},
     "output_type": "execute_result"
    }
   ],
   "source": [
    "#  3 separate subsets based on the age data in the df,   for segmenting the data into 3 different age ranges, allowing for different analyses or visualizations based on age intervals.\n",
    "df1 = df[(df['age'] >= 0) & (df['age'] < 10)]\n",
    "df2 = df[(df['age'] >= 10) & (df['age'] <20)]\n",
    "df3 = df[(df['age'] > 20) & (df['age'] <= 35)]\n",
    "df1.head()"
   ]
  },
  {
   "cell_type": "code",
   "execution_count": null,
   "metadata": {},
   "outputs": [],
   "source": [
    "plt.xlabel('age')\n",
    "plt.ylabel('price')\n",
    "plt.scatter(df1['age'], df1['price'],color=\"blue\",marker='.')\n",
    "plt.scatter(df2['age'], df2['price'],color=\"green\",marker='+')\n",
    "plt.scatter(df3['age'], df3['price'],color=\"red\",marker='*')\n",
    "plt.title('Scatter Plot price based on age')\n",
    "plt.show()"
   ]
  }
 ],
 "metadata": {
  "kernelspec": {
   "display_name": "base",
   "language": "python",
   "name": "python3"
  },
  "language_info": {
   "codemirror_mode": {
    "name": "ipython",
    "version": 3
   },
   "file_extension": ".py",
   "mimetype": "text/x-python",
   "name": "python",
   "nbconvert_exporter": "python",
   "pygments_lexer": "ipython3",
   "version": "3.11.5"
  }
 },
 "nbformat": 4,
 "nbformat_minor": 2
}
